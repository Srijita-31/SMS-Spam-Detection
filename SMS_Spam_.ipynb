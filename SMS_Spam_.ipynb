{
 "cells": [
  {
   "cell_type": "code",
   "execution_count": null,
   "metadata": {
    "executionInfo": {
     "elapsed": 746,
     "status": "ok",
     "timestamp": 1687944157851,
     "user": {
      "displayName": "Kishan Patel",
      "userId": "15511896560471983015"
     },
     "user_tz": -330
    },
    "id": "wUh_ONQz5Fxe"
   },
   "outputs": [],
   "source": [
    "import pandas as pd\n",
    "import seaborn as sns\n",
    "import matplotlib.pyplot as plt\n",
    "%matplotlib inline"
   ]
  },
  {
   "cell_type": "code",
   "execution_count": 71,
   "metadata": {
    "colab": {
     "base_uri": "https://localhost:8080/"
    },
    "executionInfo": {
     "elapsed": 1439,
     "status": "ok",
     "timestamp": 1687944159279,
     "user": {
      "displayName": "Kishan Patel",
      "userId": "15511896560471983015"
     },
     "user_tz": -330
    },
    "id": "K8_sLw9zF5Ko",
    "outputId": "a543ced6-6716-4360-e761-70c8a4c431b6"
   },
   "outputs": [
    {
     "name": "stderr",
     "output_type": "stream",
     "text": [
      "[nltk_data] Downloading package stopwords to\n",
      "[nltk_data]     C:\\Users\\HP\\AppData\\Roaming\\nltk_data...\n",
      "[nltk_data]   Package stopwords is already up-to-date!\n",
      "[nltk_data] Downloading package punkt to\n",
      "[nltk_data]     C:\\Users\\HP\\AppData\\Roaming\\nltk_data...\n",
      "[nltk_data]   Package punkt is already up-to-date!\n",
      "[nltk_data] Downloading package wordnet to\n",
      "[nltk_data]     C:\\Users\\HP\\AppData\\Roaming\\nltk_data...\n",
      "[nltk_data]   Package wordnet is already up-to-date!\n"
     ]
    },
    {
     "data": {
      "text/plain": [
       "True"
      ]
     },
     "execution_count": 71,
     "metadata": {},
     "output_type": "execute_result"
    }
   ],
   "source": [
    "import nltk\n",
    "from nltk import word_tokenize\n",
    "import string, re\n",
    "from nltk.corpus import stopwords\n",
    "nltk.download('stopwords')\n",
    "nltk.download('punkt')\n",
    "from nltk.stem import LancasterStemmer\n",
    "from nltk.stem import WordNetLemmatizer\n",
    "from nltk.stem import PorterStemmer\n",
    "nltk.download('wordnet')"
   ]
  },
  {
   "cell_type": "code",
   "execution_count": 72,
   "metadata": {
    "executionInfo": {
     "elapsed": 4,
     "status": "ok",
     "timestamp": 1687944159280,
     "user": {
      "displayName": "Kishan Patel",
      "userId": "15511896560471983015"
     },
     "user_tz": -330
    },
    "id": "Lmj-iX-JIvsv"
   },
   "outputs": [],
   "source": [
    "# 1. Data Cleaning\n",
    "# 2. EDA\n",
    "# 3. Text Preprocessing\n",
    "# 4. Model Building\n",
    "# 5. Evaluation\n",
    "# 6. Improvements\n",
    "# 7. Websites\n",
    "# 8. Deployments"
   ]
  },
  {
   "cell_type": "code",
   "execution_count": 73,
   "metadata": {
    "colab": {
     "base_uri": "https://localhost:8080/"
    },
    "executionInfo": {
     "elapsed": 2500,
     "status": "ok",
     "timestamp": 1687944161777,
     "user": {
      "displayName": "Kishan Patel",
      "userId": "15511896560471983015"
     },
     "user_tz": -330
    },
    "id": "IqlCn9ve4uSn",
    "outputId": "c3c42bb9-e68f-4bfa-e356-9080522e636c"
   },
   "outputs": [
    {
     "name": "stderr",
     "output_type": "stream",
     "text": [
      "'unzip' is not recognized as an internal or external command,\n",
      "operable program or batch file.\n"
     ]
    }
   ],
   "source": [
    "!unzip \"E:\\SMS-Spam-Detection\\sms_spam_collection.zip\""
   ]
  },
  {
   "cell_type": "markdown",
   "metadata": {
    "id": "-SyAwKgSJP--"
   },
   "source": [
    "### **1. Data Cleaning**"
   ]
  },
  {
   "cell_type": "code",
   "execution_count": 74,
   "metadata": {
    "colab": {
     "base_uri": "https://localhost:8080/",
     "height": 423
    },
    "executionInfo": {
     "elapsed": 33,
     "status": "ok",
     "timestamp": 1687944161778,
     "user": {
      "displayName": "Kishan Patel",
      "userId": "15511896560471983015"
     },
     "user_tz": -330
    },
    "id": "cmP4ha8u49OZ",
    "outputId": "9db6eacb-ca6f-4202-d02d-9871ee278f3c"
   },
   "outputs": [
    {
     "data": {
      "text/html": [
       "<div>\n",
       "<style scoped>\n",
       "    .dataframe tbody tr th:only-of-type {\n",
       "        vertical-align: middle;\n",
       "    }\n",
       "\n",
       "    .dataframe tbody tr th {\n",
       "        vertical-align: top;\n",
       "    }\n",
       "\n",
       "    .dataframe thead th {\n",
       "        text-align: right;\n",
       "    }\n",
       "</style>\n",
       "<table border=\"1\" class=\"dataframe\">\n",
       "  <thead>\n",
       "    <tr style=\"text-align: right;\">\n",
       "      <th></th>\n",
       "      <th>Category</th>\n",
       "      <th>Email Text</th>\n",
       "    </tr>\n",
       "  </thead>\n",
       "  <tbody>\n",
       "    <tr>\n",
       "      <th>0</th>\n",
       "      <td>ham</td>\n",
       "      <td>Go until jurong point, crazy.. Available only ...</td>\n",
       "    </tr>\n",
       "    <tr>\n",
       "      <th>1</th>\n",
       "      <td>ham</td>\n",
       "      <td>Ok lar... Joking wif u oni...</td>\n",
       "    </tr>\n",
       "    <tr>\n",
       "      <th>2</th>\n",
       "      <td>spam</td>\n",
       "      <td>Free entry in 2 a wkly comp to win FA Cup fina...</td>\n",
       "    </tr>\n",
       "    <tr>\n",
       "      <th>3</th>\n",
       "      <td>ham</td>\n",
       "      <td>U dun say so early hor... U c already then say...</td>\n",
       "    </tr>\n",
       "    <tr>\n",
       "      <th>4</th>\n",
       "      <td>ham</td>\n",
       "      <td>Nah I don't think he goes to usf, he lives aro...</td>\n",
       "    </tr>\n",
       "    <tr>\n",
       "      <th>...</th>\n",
       "      <td>...</td>\n",
       "      <td>...</td>\n",
       "    </tr>\n",
       "    <tr>\n",
       "      <th>5567</th>\n",
       "      <td>spam</td>\n",
       "      <td>This is the 2nd time we have tried 2 contact u...</td>\n",
       "    </tr>\n",
       "    <tr>\n",
       "      <th>5568</th>\n",
       "      <td>ham</td>\n",
       "      <td>Will ü b going to esplanade fr home?</td>\n",
       "    </tr>\n",
       "    <tr>\n",
       "      <th>5569</th>\n",
       "      <td>ham</td>\n",
       "      <td>Pity, * was in mood for that. So...any other s...</td>\n",
       "    </tr>\n",
       "    <tr>\n",
       "      <th>5570</th>\n",
       "      <td>ham</td>\n",
       "      <td>The guy did some bitching but I acted like i'd...</td>\n",
       "    </tr>\n",
       "    <tr>\n",
       "      <th>5571</th>\n",
       "      <td>ham</td>\n",
       "      <td>Rofl. Its true to its name</td>\n",
       "    </tr>\n",
       "  </tbody>\n",
       "</table>\n",
       "<p>5572 rows × 2 columns</p>\n",
       "</div>"
      ],
      "text/plain": [
       "     Category                                         Email Text\n",
       "0         ham  Go until jurong point, crazy.. Available only ...\n",
       "1         ham                      Ok lar... Joking wif u oni...\n",
       "2        spam  Free entry in 2 a wkly comp to win FA Cup fina...\n",
       "3         ham  U dun say so early hor... U c already then say...\n",
       "4         ham  Nah I don't think he goes to usf, he lives aro...\n",
       "...       ...                                                ...\n",
       "5567     spam  This is the 2nd time we have tried 2 contact u...\n",
       "5568      ham               Will ü b going to esplanade fr home?\n",
       "5569      ham  Pity, * was in mood for that. So...any other s...\n",
       "5570      ham  The guy did some bitching but I acted like i'd...\n",
       "5571      ham                         Rofl. Its true to its name\n",
       "\n",
       "[5572 rows x 2 columns]"
      ]
     },
     "execution_count": 74,
     "metadata": {},
     "output_type": "execute_result"
    }
   ],
   "source": [
    "zip_file_path = \"sms_spam_collection.zip\"\n",
    "data = pd.read_csv(zip_file_path, compression='zip', sep='\\t', header=None)\n",
    "data.rename(columns =  {0:'Category', 1:\"Email Text\"}, inplace = True)  # rename columns name\n",
    "data"
   ]
  },
  {
   "cell_type": "code",
   "execution_count": 75,
   "metadata": {
    "colab": {
     "base_uri": "https://localhost:8080/"
    },
    "executionInfo": {
     "elapsed": 29,
     "status": "ok",
     "timestamp": 1687944161778,
     "user": {
      "displayName": "Kishan Patel",
      "userId": "15511896560471983015"
     },
     "user_tz": -330
    },
    "id": "WfyTaEAFJlJo",
    "outputId": "79fe6777-f83c-4d03-ffbd-ff6144ee846d"
   },
   "outputs": [
    {
     "data": {
      "text/plain": [
       "Category      0\n",
       "Email Text    0\n",
       "dtype: int64"
      ]
     },
     "execution_count": 75,
     "metadata": {},
     "output_type": "execute_result"
    }
   ],
   "source": [
    "data.isnull().sum()"
   ]
  },
  {
   "cell_type": "code",
   "execution_count": 76,
   "metadata": {
    "colab": {
     "base_uri": "https://localhost:8080/"
    },
    "executionInfo": {
     "elapsed": 27,
     "status": "ok",
     "timestamp": 1687944161779,
     "user": {
      "displayName": "Kishan Patel",
      "userId": "15511896560471983015"
     },
     "user_tz": -330
    },
    "id": "gTw6ZsjDJpRi",
    "outputId": "013a5f12-6d5c-41cd-f108-807f10e508c5"
   },
   "outputs": [
    {
     "data": {
      "text/plain": [
       "403"
      ]
     },
     "execution_count": 76,
     "metadata": {},
     "output_type": "execute_result"
    }
   ],
   "source": [
    "data.duplicated().sum()"
   ]
  },
  {
   "cell_type": "code",
   "execution_count": 77,
   "metadata": {
    "executionInfo": {
     "elapsed": 27,
     "status": "ok",
     "timestamp": 1687944161780,
     "user": {
      "displayName": "Kishan Patel",
      "userId": "15511896560471983015"
     },
     "user_tz": -330
    },
    "id": "t7y0TVPpJ0tc"
   },
   "outputs": [],
   "source": [
    "data = data.drop_duplicates(keep = 'first')"
   ]
  },
  {
   "cell_type": "code",
   "execution_count": 78,
   "metadata": {
    "colab": {
     "base_uri": "https://localhost:8080/"
    },
    "executionInfo": {
     "elapsed": 27,
     "status": "ok",
     "timestamp": 1687944161780,
     "user": {
      "displayName": "Kishan Patel",
      "userId": "15511896560471983015"
     },
     "user_tz": -330
    },
    "id": "_zq3ANBlJ753",
    "outputId": "27e1c641-2d1a-423b-f1e3-691e3cf8b5f4"
   },
   "outputs": [
    {
     "data": {
      "text/plain": [
       "0"
      ]
     },
     "execution_count": 78,
     "metadata": {},
     "output_type": "execute_result"
    }
   ],
   "source": [
    "data.duplicated().sum()"
   ]
  },
  {
   "cell_type": "code",
   "execution_count": 79,
   "metadata": {
    "colab": {
     "base_uri": "https://localhost:8080/",
     "height": 423
    },
    "executionInfo": {
     "elapsed": 26,
     "status": "ok",
     "timestamp": 1687944161781,
     "user": {
      "displayName": "Kishan Patel",
      "userId": "15511896560471983015"
     },
     "user_tz": -330
    },
    "id": "ms7-hAEBmPVE",
    "outputId": "7ea5851b-bd47-4224-8e00-21db72f9d7be"
   },
   "outputs": [
    {
     "data": {
      "text/html": [
       "<div>\n",
       "<style scoped>\n",
       "    .dataframe tbody tr th:only-of-type {\n",
       "        vertical-align: middle;\n",
       "    }\n",
       "\n",
       "    .dataframe tbody tr th {\n",
       "        vertical-align: top;\n",
       "    }\n",
       "\n",
       "    .dataframe thead th {\n",
       "        text-align: right;\n",
       "    }\n",
       "</style>\n",
       "<table border=\"1\" class=\"dataframe\">\n",
       "  <thead>\n",
       "    <tr style=\"text-align: right;\">\n",
       "      <th></th>\n",
       "      <th>Category</th>\n",
       "      <th>Email Text</th>\n",
       "    </tr>\n",
       "  </thead>\n",
       "  <tbody>\n",
       "    <tr>\n",
       "      <th>0</th>\n",
       "      <td>ham</td>\n",
       "      <td>Go until jurong point, crazy.. Available only ...</td>\n",
       "    </tr>\n",
       "    <tr>\n",
       "      <th>1</th>\n",
       "      <td>ham</td>\n",
       "      <td>Ok lar... Joking wif u oni...</td>\n",
       "    </tr>\n",
       "    <tr>\n",
       "      <th>2</th>\n",
       "      <td>spam</td>\n",
       "      <td>Free entry in 2 a wkly comp to win FA Cup fina...</td>\n",
       "    </tr>\n",
       "    <tr>\n",
       "      <th>3</th>\n",
       "      <td>ham</td>\n",
       "      <td>U dun say so early hor... U c already then say...</td>\n",
       "    </tr>\n",
       "    <tr>\n",
       "      <th>4</th>\n",
       "      <td>ham</td>\n",
       "      <td>Nah I don't think he goes to usf, he lives aro...</td>\n",
       "    </tr>\n",
       "    <tr>\n",
       "      <th>...</th>\n",
       "      <td>...</td>\n",
       "      <td>...</td>\n",
       "    </tr>\n",
       "    <tr>\n",
       "      <th>5164</th>\n",
       "      <td>spam</td>\n",
       "      <td>This is the 2nd time we have tried 2 contact u...</td>\n",
       "    </tr>\n",
       "    <tr>\n",
       "      <th>5165</th>\n",
       "      <td>ham</td>\n",
       "      <td>Will ü b going to esplanade fr home?</td>\n",
       "    </tr>\n",
       "    <tr>\n",
       "      <th>5166</th>\n",
       "      <td>ham</td>\n",
       "      <td>Pity, * was in mood for that. So...any other s...</td>\n",
       "    </tr>\n",
       "    <tr>\n",
       "      <th>5167</th>\n",
       "      <td>ham</td>\n",
       "      <td>The guy did some bitching but I acted like i'd...</td>\n",
       "    </tr>\n",
       "    <tr>\n",
       "      <th>5168</th>\n",
       "      <td>ham</td>\n",
       "      <td>Rofl. Its true to its name</td>\n",
       "    </tr>\n",
       "  </tbody>\n",
       "</table>\n",
       "<p>5169 rows × 2 columns</p>\n",
       "</div>"
      ],
      "text/plain": [
       "     Category                                         Email Text\n",
       "0         ham  Go until jurong point, crazy.. Available only ...\n",
       "1         ham                      Ok lar... Joking wif u oni...\n",
       "2        spam  Free entry in 2 a wkly comp to win FA Cup fina...\n",
       "3         ham  U dun say so early hor... U c already then say...\n",
       "4         ham  Nah I don't think he goes to usf, he lives aro...\n",
       "...       ...                                                ...\n",
       "5164     spam  This is the 2nd time we have tried 2 contact u...\n",
       "5165      ham               Will ü b going to esplanade fr home?\n",
       "5166      ham  Pity, * was in mood for that. So...any other s...\n",
       "5167      ham  The guy did some bitching but I acted like i'd...\n",
       "5168      ham                         Rofl. Its true to its name\n",
       "\n",
       "[5169 rows x 2 columns]"
      ]
     },
     "execution_count": 79,
     "metadata": {},
     "output_type": "execute_result"
    }
   ],
   "source": [
    "data = data.reset_index(drop = True)\n",
    "data"
   ]
  },
  {
   "cell_type": "code",
   "execution_count": 80,
   "metadata": {
    "colab": {
     "base_uri": "https://localhost:8080/"
    },
    "executionInfo": {
     "elapsed": 26,
     "status": "ok",
     "timestamp": 1687944161782,
     "user": {
      "displayName": "Kishan Patel",
      "userId": "15511896560471983015"
     },
     "user_tz": -330
    },
    "id": "bVuKSfitJ9fU",
    "outputId": "19deb900-0b12-4fd8-8526-05e717fde072"
   },
   "outputs": [
    {
     "data": {
      "text/plain": [
       "(5169, 2)"
      ]
     },
     "execution_count": 80,
     "metadata": {},
     "output_type": "execute_result"
    }
   ],
   "source": [
    "data.shape"
   ]
  },
  {
   "cell_type": "markdown",
   "metadata": {
    "id": "6cc5D-8RKIjm"
   },
   "source": [
    "## 2. EDA"
   ]
  },
  {
   "cell_type": "code",
   "execution_count": 81,
   "metadata": {
    "colab": {
     "base_uri": "https://localhost:8080/"
    },
    "executionInfo": {
     "elapsed": 25,
     "status": "ok",
     "timestamp": 1687944161782,
     "user": {
      "displayName": "Kishan Patel",
      "userId": "15511896560471983015"
     },
     "user_tz": -330
    },
    "id": "EcJgfgKi-OSz",
    "outputId": "914ae655-4307-4d17-8464-5d2490f08a50"
   },
   "outputs": [
    {
     "name": "stdout",
     "output_type": "stream",
     "text": [
      "Email Not Spam : 87.37 %\n",
      "Spam Email : 12.63 %\n"
     ]
    },
    {
     "name": "stderr",
     "output_type": "stream",
     "text": [
      "C:\\Users\\HP\\AppData\\Local\\Temp\\ipykernel_27200\\1435797989.py:1: FutureWarning: Series.__getitem__ treating keys as positions is deprecated. In a future version, integer keys will always be treated as labels (consistent with DataFrame behavior). To access a value by position, use `ser.iloc[pos]`\n",
      "  print(f\"Email Not Spam : {round(data['Category'].value_counts()[0] / len(data) * 100, 2)} %\")\n",
      "C:\\Users\\HP\\AppData\\Local\\Temp\\ipykernel_27200\\1435797989.py:2: FutureWarning: Series.__getitem__ treating keys as positions is deprecated. In a future version, integer keys will always be treated as labels (consistent with DataFrame behavior). To access a value by position, use `ser.iloc[pos]`\n",
      "  print(f\"Spam Email : {round(data['Category'].value_counts()[1] / len(data) * 100 , 2)} %\")\n"
     ]
    }
   ],
   "source": [
    "print(f\"Email Not Spam : {round(data['Category'].value_counts()[0] / len(data) * 100, 2)} %\")\n",
    "print(f\"Spam Email : {round(data['Category'].value_counts()[1] / len(data) * 100 , 2)} %\")"
   ]
  },
  {
   "cell_type": "code",
   "execution_count": 82,
   "metadata": {
    "colab": {
     "base_uri": "https://localhost:8080/",
     "height": 406
    },
    "executionInfo": {
     "elapsed": 24,
     "status": "ok",
     "timestamp": 1687944161782,
     "user": {
      "displayName": "Kishan Patel",
      "userId": "15511896560471983015"
     },
     "user_tz": -330
    },
    "id": "hunruHgE7noQ",
    "outputId": "56eb35c9-f76f-4477-be6a-f51fe3876c42"
   },
   "outputs": [],
   "source": [
    "plt.pie(data['Category'].value_counts(),labels = ['ham', 'spam'], autopct = \"%.2f%%\");\n",
    "plt.legend();"
   ]
  },
  {
   "cell_type": "code",
   "execution_count": 83,
   "metadata": {
    "colab": {
     "base_uri": "https://localhost:8080/",
     "height": 206
    },
    "executionInfo": {
     "elapsed": 24,
     "status": "ok",
     "timestamp": 1687944161783,
     "user": {
      "displayName": "Kishan Patel",
      "userId": "15511896560471983015"
     },
     "user_tz": -330
    },
    "id": "SjpY-MowKmKS",
    "outputId": "b57f2e2c-01bc-40d9-dd84-d988c0e84fa7"
   },
   "outputs": [
    {
     "data": {
      "text/html": [
       "<div>\n",
       "<style scoped>\n",
       "    .dataframe tbody tr th:only-of-type {\n",
       "        vertical-align: middle;\n",
       "    }\n",
       "\n",
       "    .dataframe tbody tr th {\n",
       "        vertical-align: top;\n",
       "    }\n",
       "\n",
       "    .dataframe thead th {\n",
       "        text-align: right;\n",
       "    }\n",
       "</style>\n",
       "<table border=\"1\" class=\"dataframe\">\n",
       "  <thead>\n",
       "    <tr style=\"text-align: right;\">\n",
       "      <th></th>\n",
       "      <th>Category</th>\n",
       "      <th>Email Text</th>\n",
       "      <th>num_characters</th>\n",
       "    </tr>\n",
       "  </thead>\n",
       "  <tbody>\n",
       "    <tr>\n",
       "      <th>0</th>\n",
       "      <td>ham</td>\n",
       "      <td>Go until jurong point, crazy.. Available only ...</td>\n",
       "      <td>111</td>\n",
       "    </tr>\n",
       "    <tr>\n",
       "      <th>1</th>\n",
       "      <td>ham</td>\n",
       "      <td>Ok lar... Joking wif u oni...</td>\n",
       "      <td>29</td>\n",
       "    </tr>\n",
       "    <tr>\n",
       "      <th>2</th>\n",
       "      <td>spam</td>\n",
       "      <td>Free entry in 2 a wkly comp to win FA Cup fina...</td>\n",
       "      <td>155</td>\n",
       "    </tr>\n",
       "    <tr>\n",
       "      <th>3</th>\n",
       "      <td>ham</td>\n",
       "      <td>U dun say so early hor... U c already then say...</td>\n",
       "      <td>49</td>\n",
       "    </tr>\n",
       "    <tr>\n",
       "      <th>4</th>\n",
       "      <td>ham</td>\n",
       "      <td>Nah I don't think he goes to usf, he lives aro...</td>\n",
       "      <td>61</td>\n",
       "    </tr>\n",
       "  </tbody>\n",
       "</table>\n",
       "</div>"
      ],
      "text/plain": [
       "  Category                                         Email Text  num_characters\n",
       "0      ham  Go until jurong point, crazy.. Available only ...             111\n",
       "1      ham                      Ok lar... Joking wif u oni...              29\n",
       "2     spam  Free entry in 2 a wkly comp to win FA Cup fina...             155\n",
       "3      ham  U dun say so early hor... U c already then say...              49\n",
       "4      ham  Nah I don't think he goes to usf, he lives aro...              61"
      ]
     },
     "execution_count": 83,
     "metadata": {},
     "output_type": "execute_result"
    }
   ],
   "source": [
    "data['num_characters'] = data['Email Text'].apply(len)\n",
    "data.head()"
   ]
  },
  {
   "cell_type": "code",
   "execution_count": 84,
   "metadata": {
    "colab": {
     "base_uri": "https://localhost:8080/",
     "height": 206
    },
    "executionInfo": {
     "elapsed": 2163,
     "status": "ok",
     "timestamp": 1687944163923,
     "user": {
      "displayName": "Kishan Patel",
      "userId": "15511896560471983015"
     },
     "user_tz": -330
    },
    "id": "peyjAI9JK9ku",
    "outputId": "9364c1dd-70b4-4706-fee4-80e98c26c3fb"
   },
   "outputs": [
    {
     "data": {
      "text/html": [
       "<div>\n",
       "<style scoped>\n",
       "    .dataframe tbody tr th:only-of-type {\n",
       "        vertical-align: middle;\n",
       "    }\n",
       "\n",
       "    .dataframe tbody tr th {\n",
       "        vertical-align: top;\n",
       "    }\n",
       "\n",
       "    .dataframe thead th {\n",
       "        text-align: right;\n",
       "    }\n",
       "</style>\n",
       "<table border=\"1\" class=\"dataframe\">\n",
       "  <thead>\n",
       "    <tr style=\"text-align: right;\">\n",
       "      <th></th>\n",
       "      <th>Category</th>\n",
       "      <th>Email Text</th>\n",
       "      <th>num_characters</th>\n",
       "      <th>num_words</th>\n",
       "    </tr>\n",
       "  </thead>\n",
       "  <tbody>\n",
       "    <tr>\n",
       "      <th>0</th>\n",
       "      <td>ham</td>\n",
       "      <td>Go until jurong point, crazy.. Available only ...</td>\n",
       "      <td>111</td>\n",
       "      <td>24</td>\n",
       "    </tr>\n",
       "    <tr>\n",
       "      <th>1</th>\n",
       "      <td>ham</td>\n",
       "      <td>Ok lar... Joking wif u oni...</td>\n",
       "      <td>29</td>\n",
       "      <td>8</td>\n",
       "    </tr>\n",
       "    <tr>\n",
       "      <th>2</th>\n",
       "      <td>spam</td>\n",
       "      <td>Free entry in 2 a wkly comp to win FA Cup fina...</td>\n",
       "      <td>155</td>\n",
       "      <td>37</td>\n",
       "    </tr>\n",
       "    <tr>\n",
       "      <th>3</th>\n",
       "      <td>ham</td>\n",
       "      <td>U dun say so early hor... U c already then say...</td>\n",
       "      <td>49</td>\n",
       "      <td>13</td>\n",
       "    </tr>\n",
       "    <tr>\n",
       "      <th>4</th>\n",
       "      <td>ham</td>\n",
       "      <td>Nah I don't think he goes to usf, he lives aro...</td>\n",
       "      <td>61</td>\n",
       "      <td>15</td>\n",
       "    </tr>\n",
       "  </tbody>\n",
       "</table>\n",
       "</div>"
      ],
      "text/plain": [
       "  Category                                         Email Text  num_characters  \\\n",
       "0      ham  Go until jurong point, crazy.. Available only ...             111   \n",
       "1      ham                      Ok lar... Joking wif u oni...              29   \n",
       "2     spam  Free entry in 2 a wkly comp to win FA Cup fina...             155   \n",
       "3      ham  U dun say so early hor... U c already then say...              49   \n",
       "4      ham  Nah I don't think he goes to usf, he lives aro...              61   \n",
       "\n",
       "   num_words  \n",
       "0         24  \n",
       "1          8  \n",
       "2         37  \n",
       "3         13  \n",
       "4         15  "
      ]
     },
     "execution_count": 84,
     "metadata": {},
     "output_type": "execute_result"
    }
   ],
   "source": [
    "data['num_words'] = data['Email Text'].apply(lambda x : len(nltk.word_tokenize(x)))\n",
    "data.head()"
   ]
  },
  {
   "cell_type": "code",
   "execution_count": 85,
   "metadata": {
    "colab": {
     "base_uri": "https://localhost:8080/",
     "height": 206
    },
    "executionInfo": {
     "elapsed": 37,
     "status": "ok",
     "timestamp": 1687944163924,
     "user": {
      "displayName": "Kishan Patel",
      "userId": "15511896560471983015"
     },
     "user_tz": -330
    },
    "id": "8mPuYSQVLRIc",
    "outputId": "c848cdeb-dabf-414c-ef1e-480413c9f10c"
   },
   "outputs": [
    {
     "data": {
      "text/html": [
       "<div>\n",
       "<style scoped>\n",
       "    .dataframe tbody tr th:only-of-type {\n",
       "        vertical-align: middle;\n",
       "    }\n",
       "\n",
       "    .dataframe tbody tr th {\n",
       "        vertical-align: top;\n",
       "    }\n",
       "\n",
       "    .dataframe thead th {\n",
       "        text-align: right;\n",
       "    }\n",
       "</style>\n",
       "<table border=\"1\" class=\"dataframe\">\n",
       "  <thead>\n",
       "    <tr style=\"text-align: right;\">\n",
       "      <th></th>\n",
       "      <th>Category</th>\n",
       "      <th>Email Text</th>\n",
       "      <th>num_characters</th>\n",
       "      <th>num_words</th>\n",
       "      <th>num_sent</th>\n",
       "    </tr>\n",
       "  </thead>\n",
       "  <tbody>\n",
       "    <tr>\n",
       "      <th>0</th>\n",
       "      <td>ham</td>\n",
       "      <td>Go until jurong point, crazy.. Available only ...</td>\n",
       "      <td>111</td>\n",
       "      <td>24</td>\n",
       "      <td>2</td>\n",
       "    </tr>\n",
       "    <tr>\n",
       "      <th>1</th>\n",
       "      <td>ham</td>\n",
       "      <td>Ok lar... Joking wif u oni...</td>\n",
       "      <td>29</td>\n",
       "      <td>8</td>\n",
       "      <td>2</td>\n",
       "    </tr>\n",
       "    <tr>\n",
       "      <th>2</th>\n",
       "      <td>spam</td>\n",
       "      <td>Free entry in 2 a wkly comp to win FA Cup fina...</td>\n",
       "      <td>155</td>\n",
       "      <td>37</td>\n",
       "      <td>2</td>\n",
       "    </tr>\n",
       "    <tr>\n",
       "      <th>3</th>\n",
       "      <td>ham</td>\n",
       "      <td>U dun say so early hor... U c already then say...</td>\n",
       "      <td>49</td>\n",
       "      <td>13</td>\n",
       "      <td>1</td>\n",
       "    </tr>\n",
       "    <tr>\n",
       "      <th>4</th>\n",
       "      <td>ham</td>\n",
       "      <td>Nah I don't think he goes to usf, he lives aro...</td>\n",
       "      <td>61</td>\n",
       "      <td>15</td>\n",
       "      <td>1</td>\n",
       "    </tr>\n",
       "  </tbody>\n",
       "</table>\n",
       "</div>"
      ],
      "text/plain": [
       "  Category                                         Email Text  num_characters  \\\n",
       "0      ham  Go until jurong point, crazy.. Available only ...             111   \n",
       "1      ham                      Ok lar... Joking wif u oni...              29   \n",
       "2     spam  Free entry in 2 a wkly comp to win FA Cup fina...             155   \n",
       "3      ham  U dun say so early hor... U c already then say...              49   \n",
       "4      ham  Nah I don't think he goes to usf, he lives aro...              61   \n",
       "\n",
       "   num_words  num_sent  \n",
       "0         24         2  \n",
       "1          8         2  \n",
       "2         37         2  \n",
       "3         13         1  \n",
       "4         15         1  "
      ]
     },
     "execution_count": 85,
     "metadata": {},
     "output_type": "execute_result"
    }
   ],
   "source": [
    "data['num_sent'] = data['Email Text'].apply(lambda x : len(nltk.sent_tokenize(x)))\n",
    "data.head()"
   ]
  },
  {
   "cell_type": "code",
   "execution_count": 86,
   "metadata": {
    "colab": {
     "base_uri": "https://localhost:8080/",
     "height": 300
    },
    "executionInfo": {
     "elapsed": 35,
     "status": "ok",
     "timestamp": 1687944163925,
     "user": {
      "displayName": "Kishan Patel",
      "userId": "15511896560471983015"
     },
     "user_tz": -330
    },
    "id": "fICal917LX4U",
    "outputId": "9145b105-9863-4dc3-fc22-531b44a36a20"
   },
   "outputs": [
    {
     "data": {
      "text/html": [
       "<div>\n",
       "<style scoped>\n",
       "    .dataframe tbody tr th:only-of-type {\n",
       "        vertical-align: middle;\n",
       "    }\n",
       "\n",
       "    .dataframe tbody tr th {\n",
       "        vertical-align: top;\n",
       "    }\n",
       "\n",
       "    .dataframe thead th {\n",
       "        text-align: right;\n",
       "    }\n",
       "</style>\n",
       "<table border=\"1\" class=\"dataframe\">\n",
       "  <thead>\n",
       "    <tr style=\"text-align: right;\">\n",
       "      <th></th>\n",
       "      <th>num_characters</th>\n",
       "      <th>num_words</th>\n",
       "      <th>num_sent</th>\n",
       "    </tr>\n",
       "  </thead>\n",
       "  <tbody>\n",
       "    <tr>\n",
       "      <th>count</th>\n",
       "      <td>5169.000000</td>\n",
       "      <td>5169.000000</td>\n",
       "      <td>5169.000000</td>\n",
       "    </tr>\n",
       "    <tr>\n",
       "      <th>mean</th>\n",
       "      <td>79.344554</td>\n",
       "      <td>18.593538</td>\n",
       "      <td>1.974076</td>\n",
       "    </tr>\n",
       "    <tr>\n",
       "      <th>std</th>\n",
       "      <td>58.437457</td>\n",
       "      <td>13.402779</td>\n",
       "      <td>1.458967</td>\n",
       "    </tr>\n",
       "    <tr>\n",
       "      <th>min</th>\n",
       "      <td>2.000000</td>\n",
       "      <td>1.000000</td>\n",
       "      <td>1.000000</td>\n",
       "    </tr>\n",
       "    <tr>\n",
       "      <th>25%</th>\n",
       "      <td>36.000000</td>\n",
       "      <td>9.000000</td>\n",
       "      <td>1.000000</td>\n",
       "    </tr>\n",
       "    <tr>\n",
       "      <th>50%</th>\n",
       "      <td>61.000000</td>\n",
       "      <td>15.000000</td>\n",
       "      <td>1.000000</td>\n",
       "    </tr>\n",
       "    <tr>\n",
       "      <th>75%</th>\n",
       "      <td>119.000000</td>\n",
       "      <td>26.000000</td>\n",
       "      <td>2.000000</td>\n",
       "    </tr>\n",
       "    <tr>\n",
       "      <th>max</th>\n",
       "      <td>910.000000</td>\n",
       "      <td>220.000000</td>\n",
       "      <td>38.000000</td>\n",
       "    </tr>\n",
       "  </tbody>\n",
       "</table>\n",
       "</div>"
      ],
      "text/plain": [
       "       num_characters    num_words     num_sent\n",
       "count     5169.000000  5169.000000  5169.000000\n",
       "mean        79.344554    18.593538     1.974076\n",
       "std         58.437457    13.402779     1.458967\n",
       "min          2.000000     1.000000     1.000000\n",
       "25%         36.000000     9.000000     1.000000\n",
       "50%         61.000000    15.000000     1.000000\n",
       "75%        119.000000    26.000000     2.000000\n",
       "max        910.000000   220.000000    38.000000"
      ]
     },
     "execution_count": 86,
     "metadata": {},
     "output_type": "execute_result"
    }
   ],
   "source": [
    "data.describe()"
   ]
  },
  {
   "cell_type": "code",
   "execution_count": 87,
   "metadata": {
    "colab": {
     "base_uri": "https://localhost:8080/",
     "height": 300
    },
    "executionInfo": {
     "elapsed": 34,
     "status": "ok",
     "timestamp": 1687944163925,
     "user": {
      "displayName": "Kishan Patel",
      "userId": "15511896560471983015"
     },
     "user_tz": -330
    },
    "id": "jlbrmRjcLjmG",
    "outputId": "6fe18881-f2e1-4b03-f7de-86ada73b60f1"
   },
   "outputs": [
    {
     "data": {
      "text/html": [
       "<div>\n",
       "<style scoped>\n",
       "    .dataframe tbody tr th:only-of-type {\n",
       "        vertical-align: middle;\n",
       "    }\n",
       "\n",
       "    .dataframe tbody tr th {\n",
       "        vertical-align: top;\n",
       "    }\n",
       "\n",
       "    .dataframe thead th {\n",
       "        text-align: right;\n",
       "    }\n",
       "</style>\n",
       "<table border=\"1\" class=\"dataframe\">\n",
       "  <thead>\n",
       "    <tr style=\"text-align: right;\">\n",
       "      <th></th>\n",
       "      <th>num_characters</th>\n",
       "      <th>num_words</th>\n",
       "      <th>num_sent</th>\n",
       "    </tr>\n",
       "  </thead>\n",
       "  <tbody>\n",
       "    <tr>\n",
       "      <th>count</th>\n",
       "      <td>4516.000000</td>\n",
       "      <td>4516.000000</td>\n",
       "      <td>4516.000000</td>\n",
       "    </tr>\n",
       "    <tr>\n",
       "      <th>mean</th>\n",
       "      <td>70.905890</td>\n",
       "      <td>17.267715</td>\n",
       "      <td>1.827724</td>\n",
       "    </tr>\n",
       "    <tr>\n",
       "      <th>std</th>\n",
       "      <td>56.715046</td>\n",
       "      <td>13.588065</td>\n",
       "      <td>1.394338</td>\n",
       "    </tr>\n",
       "    <tr>\n",
       "      <th>min</th>\n",
       "      <td>2.000000</td>\n",
       "      <td>1.000000</td>\n",
       "      <td>1.000000</td>\n",
       "    </tr>\n",
       "    <tr>\n",
       "      <th>25%</th>\n",
       "      <td>34.000000</td>\n",
       "      <td>8.000000</td>\n",
       "      <td>1.000000</td>\n",
       "    </tr>\n",
       "    <tr>\n",
       "      <th>50%</th>\n",
       "      <td>53.000000</td>\n",
       "      <td>13.000000</td>\n",
       "      <td>1.000000</td>\n",
       "    </tr>\n",
       "    <tr>\n",
       "      <th>75%</th>\n",
       "      <td>91.000000</td>\n",
       "      <td>22.000000</td>\n",
       "      <td>2.000000</td>\n",
       "    </tr>\n",
       "    <tr>\n",
       "      <th>max</th>\n",
       "      <td>910.000000</td>\n",
       "      <td>220.000000</td>\n",
       "      <td>38.000000</td>\n",
       "    </tr>\n",
       "  </tbody>\n",
       "</table>\n",
       "</div>"
      ],
      "text/plain": [
       "       num_characters    num_words     num_sent\n",
       "count     4516.000000  4516.000000  4516.000000\n",
       "mean        70.905890    17.267715     1.827724\n",
       "std         56.715046    13.588065     1.394338\n",
       "min          2.000000     1.000000     1.000000\n",
       "25%         34.000000     8.000000     1.000000\n",
       "50%         53.000000    13.000000     1.000000\n",
       "75%         91.000000    22.000000     2.000000\n",
       "max        910.000000   220.000000    38.000000"
      ]
     },
     "execution_count": 87,
     "metadata": {},
     "output_type": "execute_result"
    }
   ],
   "source": [
    "data[data['Category'] == 'ham'].describe()"
   ]
  },
  {
   "cell_type": "code",
   "execution_count": 88,
   "metadata": {
    "colab": {
     "base_uri": "https://localhost:8080/",
     "height": 300
    },
    "executionInfo": {
     "elapsed": 35,
     "status": "ok",
     "timestamp": 1687944163926,
     "user": {
      "displayName": "Kishan Patel",
      "userId": "15511896560471983015"
     },
     "user_tz": -330
    },
    "id": "LbhVuOPvLrPG",
    "outputId": "12fc5deb-5181-4840-9842-abb27892f63e"
   },
   "outputs": [
    {
     "data": {
      "text/html": [
       "<div>\n",
       "<style scoped>\n",
       "    .dataframe tbody tr th:only-of-type {\n",
       "        vertical-align: middle;\n",
       "    }\n",
       "\n",
       "    .dataframe tbody tr th {\n",
       "        vertical-align: top;\n",
       "    }\n",
       "\n",
       "    .dataframe thead th {\n",
       "        text-align: right;\n",
       "    }\n",
       "</style>\n",
       "<table border=\"1\" class=\"dataframe\">\n",
       "  <thead>\n",
       "    <tr style=\"text-align: right;\">\n",
       "      <th></th>\n",
       "      <th>num_characters</th>\n",
       "      <th>num_words</th>\n",
       "      <th>num_sent</th>\n",
       "    </tr>\n",
       "  </thead>\n",
       "  <tbody>\n",
       "    <tr>\n",
       "      <th>count</th>\n",
       "      <td>653.000000</td>\n",
       "      <td>653.000000</td>\n",
       "      <td>653.000000</td>\n",
       "    </tr>\n",
       "    <tr>\n",
       "      <th>mean</th>\n",
       "      <td>137.704441</td>\n",
       "      <td>27.762634</td>\n",
       "      <td>2.986217</td>\n",
       "    </tr>\n",
       "    <tr>\n",
       "      <th>std</th>\n",
       "      <td>29.821348</td>\n",
       "      <td>6.993008</td>\n",
       "      <td>1.494815</td>\n",
       "    </tr>\n",
       "    <tr>\n",
       "      <th>min</th>\n",
       "      <td>13.000000</td>\n",
       "      <td>2.000000</td>\n",
       "      <td>1.000000</td>\n",
       "    </tr>\n",
       "    <tr>\n",
       "      <th>25%</th>\n",
       "      <td>132.000000</td>\n",
       "      <td>25.000000</td>\n",
       "      <td>2.000000</td>\n",
       "    </tr>\n",
       "    <tr>\n",
       "      <th>50%</th>\n",
       "      <td>148.000000</td>\n",
       "      <td>29.000000</td>\n",
       "      <td>3.000000</td>\n",
       "    </tr>\n",
       "    <tr>\n",
       "      <th>75%</th>\n",
       "      <td>157.000000</td>\n",
       "      <td>32.000000</td>\n",
       "      <td>4.000000</td>\n",
       "    </tr>\n",
       "    <tr>\n",
       "      <th>max</th>\n",
       "      <td>223.000000</td>\n",
       "      <td>46.000000</td>\n",
       "      <td>9.000000</td>\n",
       "    </tr>\n",
       "  </tbody>\n",
       "</table>\n",
       "</div>"
      ],
      "text/plain": [
       "       num_characters   num_words    num_sent\n",
       "count      653.000000  653.000000  653.000000\n",
       "mean       137.704441   27.762634    2.986217\n",
       "std         29.821348    6.993008    1.494815\n",
       "min         13.000000    2.000000    1.000000\n",
       "25%        132.000000   25.000000    2.000000\n",
       "50%        148.000000   29.000000    3.000000\n",
       "75%        157.000000   32.000000    4.000000\n",
       "max        223.000000   46.000000    9.000000"
      ]
     },
     "execution_count": 88,
     "metadata": {},
     "output_type": "execute_result"
    }
   ],
   "source": [
    "data[data['Category'] == 'spam'].describe()"
   ]
  },
  {
   "cell_type": "code",
   "execution_count": 89,
   "metadata": {},
   "outputs": [],
   "source": [
    "\n",
    "# sns.pairplot(data, hue = ['Category'])"
   ]
  },
  {
   "cell_type": "code",
   "execution_count": 90,
   "metadata": {},
   "outputs": [
    {
     "name": "stdout",
     "output_type": "stream",
     "text": [
      "Requirement already satisfied: seaborn in c:\\users\\hp\\anaconda3\\lib\\site-packages (0.13.2)\n",
      "Requirement already satisfied: numpy!=1.24.0,>=1.20 in c:\\users\\hp\\anaconda3\\lib\\site-packages (from seaborn) (1.26.4)\n",
      "Requirement already satisfied: pandas>=1.2 in c:\\users\\hp\\anaconda3\\lib\\site-packages (from seaborn) (2.3.1)\n",
      "Requirement already satisfied: matplotlib!=3.6.1,>=3.4 in c:\\users\\hp\\anaconda3\\lib\\site-packages (from seaborn) (3.9.2)\n",
      "Requirement already satisfied: contourpy>=1.0.1 in c:\\users\\hp\\anaconda3\\lib\\site-packages (from matplotlib!=3.6.1,>=3.4->seaborn) (1.3.3)\n",
      "Requirement already satisfied: cycler>=0.10 in c:\\users\\hp\\anaconda3\\lib\\site-packages (from matplotlib!=3.6.1,>=3.4->seaborn) (0.11.0)\n",
      "Requirement already satisfied: fonttools>=4.22.0 in c:\\users\\hp\\anaconda3\\lib\\site-packages (from matplotlib!=3.6.1,>=3.4->seaborn) (4.51.0)\n",
      "Requirement already satisfied: kiwisolver>=1.3.1 in c:\\users\\hp\\anaconda3\\lib\\site-packages (from matplotlib!=3.6.1,>=3.4->seaborn) (1.4.4)\n",
      "Requirement already satisfied: packaging>=20.0 in c:\\users\\hp\\anaconda3\\lib\\site-packages (from matplotlib!=3.6.1,>=3.4->seaborn) (24.1)\n",
      "Requirement already satisfied: pillow>=8 in c:\\users\\hp\\anaconda3\\lib\\site-packages (from matplotlib!=3.6.1,>=3.4->seaborn) (10.4.0)\n",
      "Requirement already satisfied: pyparsing>=2.3.1 in c:\\users\\hp\\anaconda3\\lib\\site-packages (from matplotlib!=3.6.1,>=3.4->seaborn) (3.1.2)\n",
      "Requirement already satisfied: python-dateutil>=2.7 in c:\\users\\hp\\anaconda3\\lib\\site-packages (from matplotlib!=3.6.1,>=3.4->seaborn) (2.9.0.post0)\n",
      "Requirement already satisfied: pytz>=2020.1 in c:\\users\\hp\\anaconda3\\lib\\site-packages (from pandas>=1.2->seaborn) (2024.1)\n",
      "Requirement already satisfied: tzdata>=2022.7 in c:\\users\\hp\\anaconda3\\lib\\site-packages (from pandas>=1.2->seaborn) (2023.3)\n",
      "Requirement already satisfied: six>=1.5 in c:\\users\\hp\\anaconda3\\lib\\site-packages (from python-dateutil>=2.7->matplotlib!=3.6.1,>=3.4->seaborn) (1.16.0)\n",
      "Note: you may need to restart the kernel to use updated packages.\n"
     ]
    }
   ],
   "source": [
    "pip install seaborn"
   ]
  },
  {
   "cell_type": "code",
   "execution_count": 91,
   "metadata": {
    "colab": {
     "base_uri": "https://localhost:8080/",
     "height": 198
    },
    "executionInfo": {
     "elapsed": 35,
     "status": "ok",
     "timestamp": 1687944163927,
     "user": {
      "displayName": "Kishan Patel",
      "userId": "15511896560471983015"
     },
     "user_tz": -330
    },
    "id": "l2cZCIdHMe8y",
    "outputId": "35dd8270-c08a-4ae6-b137-c6f32c9bdca7"
   },
   "outputs": [
    {
     "name": "stdout",
     "output_type": "stream",
     "text": [
      "<class 'pandas.core.frame.DataFrame'>\n",
      "RangeIndex: 5169 entries, 0 to 5168\n",
      "Data columns (total 5 columns):\n",
      " #   Column          Non-Null Count  Dtype \n",
      "---  ------          --------------  ----- \n",
      " 0   Category        5169 non-null   object\n",
      " 1   Email Text      5169 non-null   object\n",
      " 2   num_characters  5169 non-null   int64 \n",
      " 3   num_words       5169 non-null   int64 \n",
      " 4   num_sent        5169 non-null   int64 \n",
      "dtypes: int64(3), object(2)\n",
      "memory usage: 202.0+ KB\n"
     ]
    }
   ],
   "source": [
    "data.info()\n"
   ]
  },
  {
   "cell_type": "code",
   "execution_count": 92,
   "metadata": {},
   "outputs": [
    {
     "name": "stdout",
     "output_type": "stream",
     "text": [
      "Index(['Category', 'Email Text', 'num_characters', 'num_words', 'num_sent'], dtype='object')\n"
     ]
    }
   ],
   "source": [
    "print(data.columns)"
   ]
  },
  {
   "cell_type": "code",
   "execution_count": 93,
   "metadata": {},
   "outputs": [
    {
     "name": "stdout",
     "output_type": "stream",
     "text": [
      "                num_characters  num_words  num_sent\n",
      "num_characters        1.000000   0.966003  0.622580\n",
      "num_words             0.966003   1.000000  0.679142\n",
      "num_sent              0.622580   0.679142  1.000000\n"
     ]
    }
   ],
   "source": [
    "# Selecting only the columns that have a numerical data type\n",
    "numerical_data = data.select_dtypes(include=['int64', 'float64'])\n",
    "\n",
    "# calculating the correlation matrix on th new DataFrame\n",
    "correlation_matrix = numerical_data.corr()\n",
    "\n",
    "# Printing the correlation matrix\n",
    "print(correlation_matrix)"
   ]
  },
  {
   "cell_type": "code",
   "execution_count": 94,
   "metadata": {
    "colab": {
     "base_uri": "https://localhost:8080/",
     "height": 507
    },
    "executionInfo": {
     "elapsed": 32,
     "status": "ok",
     "timestamp": 1687944163928,
     "user": {
      "displayName": "Kishan Patel",
      "userId": "15511896560471983015"
     },
     "user_tz": -330
    },
    "id": "NUiEjCmiMvBb",
    "outputId": "0a4fcdc4-8ff3-4ed5-8f23-71b9b9eb9c60"
   },
   "outputs": [
    {
     "data": {
      "text/plain": [
       "<Axes: >"
      ]
     },
     "execution_count": 94,
     "metadata": {},
     "output_type": "execute_result"
    }
   ],
   "source": [
    "\n",
    "sns.heatmap(correlation_matrix, annot=True)"
   ]
  },
  {
   "cell_type": "markdown",
   "metadata": {
    "id": "obuPjCZHNFiz"
   },
   "source": [
    "## **3. Data Preprocessing**\n",
    "\n",
    "* Lower Cases\n",
    "* Tokenization\n",
    "* Removing Special Character\n",
    "* Removing stop Words and punctuation\n",
    "* Stemming"
   ]
  },
  {
   "cell_type": "code",
   "execution_count": 95,
   "metadata": {
    "executionInfo": {
     "elapsed": 31,
     "status": "ok",
     "timestamp": 1687944163928,
     "user": {
      "displayName": "Kishan Patel",
      "userId": "15511896560471983015"
     },
     "user_tz": -330
    },
    "id": "j9QLOYkkgKVd"
   },
   "outputs": [],
   "source": [
    "port_stemmer = PorterStemmer()\n",
    "lan_stemmer = LancasterStemmer()\n",
    "lemmatizer = WordNetLemmatizer()"
   ]
  },
  {
   "cell_type": "code",
   "execution_count": 96,
   "metadata": {
    "executionInfo": {
     "elapsed": 30,
     "status": "ok",
     "timestamp": 1687944163928,
     "user": {
      "displayName": "Kishan Patel",
      "userId": "15511896560471983015"
     },
     "user_tz": -330
    },
    "id": "Fe6uuE5yJDaB"
   },
   "outputs": [],
   "source": [
    "# Creating a function to generate cleaned data from raw text\n",
    "def clean_text(text):\n",
    "    text = word_tokenize(text) \n",
    "    text= \" \".join(text) \n",
    "    text = [char for char in text if char not in string.punctuation] \n",
    "    text = ''.join(text) \n",
    "    text = [char for char in text if char not in re.findall(r\"[0-9]\", text)] \n",
    "    text = ''.join(text) \n",
    "    text = [word.lower() for word in text.split() if word.lower() not in set(stopwords.words('english'))] # Removing common english words (I, you, we,...)\n",
    "    text = ' '.join(text) # Joining the leters\n",
    "    # text = list(map(lambda x: lan_stemmer.stem(x), text.split()))\n",
    "    text = list(map(lambda x: port_stemmer.stem(x), text.split()))\n",
    "    # text = list(map(lambda x: lemmatizer.lemmatize(x), text.split()))\n",
    "    return \" \".join(text)   # error word"
   ]
  },
  {
   "cell_type": "code",
   "execution_count": 97,
   "metadata": {
    "executionInfo": {
     "elapsed": 22282,
     "status": "ok",
     "timestamp": 1687944186180,
     "user": {
      "displayName": "Kishan Patel",
      "userId": "15511896560471983015"
     },
     "user_tz": -330
    },
    "id": "QTF5ipEUo-F-"
   },
   "outputs": [],
   "source": [
    "data['Clean Email'] = data['Email Text'].apply(clean_text)"
   ]
  },
  {
   "cell_type": "code",
   "execution_count": 98,
   "metadata": {
    "colab": {
     "base_uri": "https://localhost:8080/"
    },
    "executionInfo": {
     "elapsed": 13,
     "status": "ok",
     "timestamp": 1687944186182,
     "user": {
      "displayName": "Kishan Patel",
      "userId": "15511896560471983015"
     },
     "user_tz": -330
    },
    "id": "f_JZU5zKV8EH",
    "outputId": "339c56e4-b40d-4b14-c802-27b1123a4c87"
   },
   "outputs": [
    {
     "data": {
      "text/plain": [
       "Index(['Category', 'Email Text', 'num_characters', 'num_words', 'num_sent',\n",
       "       'Clean Email'],\n",
       "      dtype='object')"
      ]
     },
     "execution_count": 98,
     "metadata": {},
     "output_type": "execute_result"
    }
   ],
   "source": [
    "data.columns"
   ]
  },
  {
   "cell_type": "code",
   "execution_count": 99,
   "metadata": {
    "colab": {
     "base_uri": "https://localhost:8080/",
     "height": 363
    },
    "executionInfo": {
     "elapsed": 10,
     "status": "ok",
     "timestamp": 1687944186183,
     "user": {
      "displayName": "Kishan Patel",
      "userId": "15511896560471983015"
     },
     "user_tz": -330
    },
    "id": "6FiTMmcjIIzx",
    "outputId": "b6e4aa67-99cc-42f4-acfa-860f61a410a7"
   },
   "outputs": [
    {
     "data": {
      "text/html": [
       "<div>\n",
       "<style scoped>\n",
       "    .dataframe tbody tr th:only-of-type {\n",
       "        vertical-align: middle;\n",
       "    }\n",
       "\n",
       "    .dataframe tbody tr th {\n",
       "        vertical-align: top;\n",
       "    }\n",
       "\n",
       "    .dataframe thead th {\n",
       "        text-align: right;\n",
       "    }\n",
       "</style>\n",
       "<table border=\"1\" class=\"dataframe\">\n",
       "  <thead>\n",
       "    <tr style=\"text-align: right;\">\n",
       "      <th></th>\n",
       "      <th>Category</th>\n",
       "      <th>Email Text</th>\n",
       "      <th>num_characters</th>\n",
       "      <th>num_words</th>\n",
       "      <th>num_sent</th>\n",
       "      <th>Clean Email</th>\n",
       "    </tr>\n",
       "  </thead>\n",
       "  <tbody>\n",
       "    <tr>\n",
       "      <th>0</th>\n",
       "      <td>ham</td>\n",
       "      <td>Go until jurong point, crazy.. Available only ...</td>\n",
       "      <td>111</td>\n",
       "      <td>24</td>\n",
       "      <td>2</td>\n",
       "      <td>go jurong point crazi avail bugi n great world...</td>\n",
       "    </tr>\n",
       "    <tr>\n",
       "      <th>1</th>\n",
       "      <td>ham</td>\n",
       "      <td>Ok lar... Joking wif u oni...</td>\n",
       "      <td>29</td>\n",
       "      <td>8</td>\n",
       "      <td>2</td>\n",
       "      <td>ok lar joke wif u oni</td>\n",
       "    </tr>\n",
       "    <tr>\n",
       "      <th>2</th>\n",
       "      <td>spam</td>\n",
       "      <td>Free entry in 2 a wkly comp to win FA Cup fina...</td>\n",
       "      <td>155</td>\n",
       "      <td>37</td>\n",
       "      <td>2</td>\n",
       "      <td>free entri wkli comp win fa cup final tkt st m...</td>\n",
       "    </tr>\n",
       "    <tr>\n",
       "      <th>3</th>\n",
       "      <td>ham</td>\n",
       "      <td>U dun say so early hor... U c already then say...</td>\n",
       "      <td>49</td>\n",
       "      <td>13</td>\n",
       "      <td>1</td>\n",
       "      <td>u dun say earli hor u c alreadi say</td>\n",
       "    </tr>\n",
       "    <tr>\n",
       "      <th>4</th>\n",
       "      <td>ham</td>\n",
       "      <td>Nah I don't think he goes to usf, he lives aro...</td>\n",
       "      <td>61</td>\n",
       "      <td>15</td>\n",
       "      <td>1</td>\n",
       "      <td>nah nt think goe usf live around though</td>\n",
       "    </tr>\n",
       "    <tr>\n",
       "      <th>5</th>\n",
       "      <td>spam</td>\n",
       "      <td>FreeMsg Hey there darling it's been 3 week's n...</td>\n",
       "      <td>147</td>\n",
       "      <td>39</td>\n",
       "      <td>4</td>\n",
       "      <td>freemsg hey darl week word back like fun still...</td>\n",
       "    </tr>\n",
       "    <tr>\n",
       "      <th>6</th>\n",
       "      <td>ham</td>\n",
       "      <td>Even my brother is not like to speak with me. ...</td>\n",
       "      <td>77</td>\n",
       "      <td>18</td>\n",
       "      <td>2</td>\n",
       "      <td>even brother like speak treat like aid patent</td>\n",
       "    </tr>\n",
       "    <tr>\n",
       "      <th>7</th>\n",
       "      <td>ham</td>\n",
       "      <td>As per your request 'Melle Melle (Oru Minnamin...</td>\n",
       "      <td>160</td>\n",
       "      <td>31</td>\n",
       "      <td>2</td>\n",
       "      <td>per request mell mell oru minnaminungint nurun...</td>\n",
       "    </tr>\n",
       "    <tr>\n",
       "      <th>8</th>\n",
       "      <td>spam</td>\n",
       "      <td>WINNER!! As a valued network customer you have...</td>\n",
       "      <td>157</td>\n",
       "      <td>32</td>\n",
       "      <td>5</td>\n",
       "      <td>winner valu network custom select receivea £ p...</td>\n",
       "    </tr>\n",
       "    <tr>\n",
       "      <th>9</th>\n",
       "      <td>spam</td>\n",
       "      <td>Had your mobile 11 months or more? U R entitle...</td>\n",
       "      <td>154</td>\n",
       "      <td>31</td>\n",
       "      <td>3</td>\n",
       "      <td>mobil month u r entitl updat latest colour mob...</td>\n",
       "    </tr>\n",
       "  </tbody>\n",
       "</table>\n",
       "</div>"
      ],
      "text/plain": [
       "  Category                                         Email Text  num_characters  \\\n",
       "0      ham  Go until jurong point, crazy.. Available only ...             111   \n",
       "1      ham                      Ok lar... Joking wif u oni...              29   \n",
       "2     spam  Free entry in 2 a wkly comp to win FA Cup fina...             155   \n",
       "3      ham  U dun say so early hor... U c already then say...              49   \n",
       "4      ham  Nah I don't think he goes to usf, he lives aro...              61   \n",
       "5     spam  FreeMsg Hey there darling it's been 3 week's n...             147   \n",
       "6      ham  Even my brother is not like to speak with me. ...              77   \n",
       "7      ham  As per your request 'Melle Melle (Oru Minnamin...             160   \n",
       "8     spam  WINNER!! As a valued network customer you have...             157   \n",
       "9     spam  Had your mobile 11 months or more? U R entitle...             154   \n",
       "\n",
       "   num_words  num_sent                                        Clean Email  \n",
       "0         24         2  go jurong point crazi avail bugi n great world...  \n",
       "1          8         2                              ok lar joke wif u oni  \n",
       "2         37         2  free entri wkli comp win fa cup final tkt st m...  \n",
       "3         13         1                u dun say earli hor u c alreadi say  \n",
       "4         15         1            nah nt think goe usf live around though  \n",
       "5         39         4  freemsg hey darl week word back like fun still...  \n",
       "6         18         2      even brother like speak treat like aid patent  \n",
       "7         31         2  per request mell mell oru minnaminungint nurun...  \n",
       "8         32         5  winner valu network custom select receivea £ p...  \n",
       "9         31         3  mobil month u r entitl updat latest colour mob...  "
      ]
     },
     "execution_count": 99,
     "metadata": {},
     "output_type": "execute_result"
    }
   ],
   "source": [
    "data.head(10)"
   ]
  },
  {
   "cell_type": "code",
   "execution_count": 100,
   "metadata": {
    "executionInfo": {
     "elapsed": 10,
     "status": "ok",
     "timestamp": 1687944186184,
     "user": {
      "displayName": "Kishan Patel",
      "userId": "15511896560471983015"
     },
     "user_tz": -330
    },
    "id": "5N_BS4fupu69"
   },
   "outputs": [],
   "source": [
    "from wordcloud import WordCloud\n",
    "wc = WordCloud(width = 2000, height = 1000, min_font_size = 10, background_color = 'Black')"
   ]
  },
  {
   "cell_type": "code",
   "execution_count": 101,
   "metadata": {
    "colab": {
     "base_uri": "https://localhost:8080/",
     "height": 527
    },
    "executionInfo": {
     "elapsed": 18390,
     "status": "ok",
     "timestamp": 1687944204564,
     "user": {
      "displayName": "Kishan Patel",
      "userId": "15511896560471983015"
     },
     "user_tz": -330
    },
    "id": "BbEdT2JYquOr",
    "outputId": "1a548c2b-0b3d-4bc8-9408-759a4f45d19a"
   },
   "outputs": [],
   "source": [
    "spam_ = wc.generate(data[data['Category']=='spam']['Clean Email'].str.cat(sep = \" \"));\n",
    "plt.figure(figsize = (15,6))\n",
    "plt.imshow(spam_);"
   ]
  },
  {
   "cell_type": "code",
   "execution_count": 102,
   "metadata": {
    "colab": {
     "base_uri": "https://localhost:8080/",
     "height": 527
    },
    "executionInfo": {
     "elapsed": 6563,
     "status": "ok",
     "timestamp": 1687944211121,
     "user": {
      "displayName": "Kishan Patel",
      "userId": "15511896560471983015"
     },
     "user_tz": -330
    },
    "id": "B7gyOvuDpurK",
    "outputId": "7336bda0-925d-4696-bc2a-d6e48f986728"
   },
   "outputs": [],
   "source": [
    "ham_ = wc.generate(data[data['Category']=='ham']['Clean Email'].str.cat(sep = \" \"));\n",
    "plt.figure(figsize = (15,6))\n",
    "plt.imshow(ham_);"
   ]
  },
  {
   "cell_type": "code",
   "execution_count": 103,
   "metadata": {
    "executionInfo": {
     "elapsed": 11,
     "status": "ok",
     "timestamp": 1687944211122,
     "user": {
      "displayName": "Kishan Patel",
      "userId": "15511896560471983015"
     },
     "user_tz": -330
    },
    "id": "8qxr-YIRpuO6"
   },
   "outputs": [],
   "source": [
    "spam_word = []\n",
    "for msg in data[data['Category'] == 'spam']['Clean Email'].tolist():\n",
    "  for word in msg.split():\n",
    "    spam_word.append(word)"
   ]
  },
  {
   "cell_type": "code",
   "execution_count": 104,
   "metadata": {
    "colab": {
     "base_uri": "https://localhost:8080/"
    },
    "executionInfo": {
     "elapsed": 11,
     "status": "ok",
     "timestamp": 1687944211123,
     "user": {
      "displayName": "Kishan Patel",
      "userId": "15511896560471983015"
     },
     "user_tz": -330
    },
    "id": "UDLjGU8sriLi",
    "outputId": "eecb0efe-0589-4633-f313-884fa223e2e1"
   },
   "outputs": [
    {
     "data": {
      "text/plain": [
       "9553"
      ]
     },
     "execution_count": 104,
     "metadata": {},
     "output_type": "execute_result"
    }
   ],
   "source": [
    "len(spam_word)"
   ]
  },
  {
   "cell_type": "code",
   "execution_count": 105,
   "metadata": {
    "colab": {
     "base_uri": "https://localhost:8080/",
     "height": 468
    },
    "executionInfo": {
     "elapsed": 788,
     "status": "ok",
     "timestamp": 1687944211903,
     "user": {
      "displayName": "Kishan Patel",
      "userId": "15511896560471983015"
     },
     "user_tz": -330
    },
    "id": "trqqkDQKrh9q",
    "outputId": "ffebb42b-54ba-4600-db66-70ef8fdfd2fc"
   },
   "outputs": [],
   "source": [
    "from collections import Counter # Count frequence of word in text\n",
    "plt.bar(pd.DataFrame(Counter(spam_word).most_common(30))[0], pd.DataFrame(Counter(spam_word).most_common(30))[1])\n",
    "plt.xticks(rotation = 'vertical');"
   ]
  },
  {
   "cell_type": "code",
   "execution_count": 106,
   "metadata": {
    "executionInfo": {
     "elapsed": 33,
     "status": "ok",
     "timestamp": 1687944211904,
     "user": {
      "displayName": "Kishan Patel",
      "userId": "15511896560471983015"
     },
     "user_tz": -330
    },
    "id": "6OOwHU3ktQc-"
   },
   "outputs": [],
   "source": [
    "ham_word = []\n",
    "for msg in data[data['Category'] == 'ham']['Clean Email'].tolist():\n",
    "  for word in msg.split():\n",
    "    ham_word.append(word)"
   ]
  },
  {
   "cell_type": "code",
   "execution_count": 107,
   "metadata": {
    "colab": {
     "base_uri": "https://localhost:8080/"
    },
    "executionInfo": {
     "elapsed": 34,
     "status": "ok",
     "timestamp": 1687944211905,
     "user": {
      "displayName": "Kishan Patel",
      "userId": "15511896560471983015"
     },
     "user_tz": -330
    },
    "id": "ACeiaaMgu46J",
    "outputId": "48faffe5-b632-4bbf-954f-6953a621c07d"
   },
   "outputs": [
    {
     "data": {
      "text/plain": [
       "36329"
      ]
     },
     "execution_count": 107,
     "metadata": {},
     "output_type": "execute_result"
    }
   ],
   "source": [
    "len(ham_word)"
   ]
  },
  {
   "cell_type": "code",
   "execution_count": 108,
   "metadata": {
    "colab": {
     "base_uri": "https://localhost:8080/",
     "height": 455
    },
    "executionInfo": {
     "elapsed": 32,
     "status": "ok",
     "timestamp": 1687944211906,
     "user": {
      "displayName": "Kishan Patel",
      "userId": "15511896560471983015"
     },
     "user_tz": -330
    },
    "id": "3xLKYGcDu7Ce",
    "outputId": "e51c1a48-2003-42e4-e574-2c1f173beda6"
   },
   "outputs": [],
   "source": [
    "from collections import Counter # Count frequence of word in text\n",
    "plt.bar(pd.DataFrame(Counter(ham_word).most_common(30))[0], pd.DataFrame(Counter(ham_word).most_common(30))[1])\n",
    "plt.xticks(rotation = 'vertical');"
   ]
  },
  {
   "cell_type": "code",
   "execution_count": 109,
   "metadata": {
    "executionInfo": {
     "elapsed": 31,
     "status": "ok",
     "timestamp": 1687944211906,
     "user": {
      "displayName": "Kishan Patel",
      "userId": "15511896560471983015"
     },
     "user_tz": -330
    },
    "id": "GS2WCiTU3n36"
   },
   "outputs": [],
   "source": [
    "from sklearn.preprocessing import LabelEncoder\n",
    "\n",
    "\n",
    "# Initialize the LabelEncoder\n",
    "encoder = LabelEncoder()\n",
    "\n",
    "# Fit and transform the labels\n",
    "data['target'] = encoder.fit_transform(data['Category'])"
   ]
  },
  {
   "cell_type": "markdown",
   "metadata": {
    "id": "Rb0XsZsI3Rd4"
   },
   "source": [
    "## 4. Model Building"
   ]
  },
  {
   "cell_type": "code",
   "execution_count": 110,
   "metadata": {
    "executionInfo": {
     "elapsed": 31,
     "status": "ok",
     "timestamp": 1687944211907,
     "user": {
      "displayName": "Kishan Patel",
      "userId": "15511896560471983015"
     },
     "user_tz": -330
    },
    "id": "k0oY9D2B3Vbp"
   },
   "outputs": [],
   "source": [
    "from sklearn.feature_extraction.text import CountVectorizer ,TfidfVectorizer\n",
    "\n",
    "cv = CountVectorizer"
   ]
  },
  {
   "cell_type": "code",
   "execution_count": 111,
   "metadata": {
    "colab": {
     "base_uri": "https://localhost:8080/"
    },
    "executionInfo": {
     "elapsed": 31,
     "status": "ok",
     "timestamp": 1687944211907,
     "user": {
      "displayName": "Kishan Patel",
      "userId": "15511896560471983015"
     },
     "user_tz": -330
    },
    "id": "TnWoUf17tQki",
    "outputId": "8b2d0ab7-1045-4c04-ef9f-5ef4c44bed33"
   },
   "outputs": [
    {
     "data": {
      "text/plain": [
       "(5169, 3000)"
      ]
     },
     "execution_count": 111,
     "metadata": {},
     "output_type": "execute_result"
    }
   ],
   "source": [
    "# Initialize the TF-IDF vectorizer\n",
    "tf = TfidfVectorizer(max_features = 3000)\n",
    "\n",
    "# Fit and transform the text column\n",
    "X = tf.fit_transform(data['Clean Email']).toarray()\n",
    "X.shape"
   ]
  },
  {
   "cell_type": "code",
   "execution_count": 112,
   "metadata": {
    "executionInfo": {
     "elapsed": 29,
     "status": "ok",
     "timestamp": 1687944211907,
     "user": {
      "displayName": "Kishan Patel",
      "userId": "15511896560471983015"
     },
     "user_tz": -330
    },
    "id": "JYAqyGpH36L8"
   },
   "outputs": [],
   "source": [
    "y = data['target'].values"
   ]
  },
  {
   "cell_type": "code",
   "execution_count": 113,
   "metadata": {
    "colab": {
     "base_uri": "https://localhost:8080/"
    },
    "executionInfo": {
     "elapsed": 30,
     "status": "ok",
     "timestamp": 1687944211908,
     "user": {
      "displayName": "Kishan Patel",
      "userId": "15511896560471983015"
     },
     "user_tz": -330
    },
    "id": "faBUy3uV4sJR",
    "outputId": "0b710bb5-2871-4b1a-e041-e038b9fb368a"
   },
   "outputs": [
    {
     "data": {
      "text/plain": [
       "array([0, 0, 1, ..., 0, 0, 0])"
      ]
     },
     "execution_count": 113,
     "metadata": {},
     "output_type": "execute_result"
    }
   ],
   "source": [
    "y"
   ]
  },
  {
   "cell_type": "code",
   "execution_count": 114,
   "metadata": {
    "executionInfo": {
     "elapsed": 29,
     "status": "ok",
     "timestamp": 1687944211908,
     "user": {
      "displayName": "Kishan Patel",
      "userId": "15511896560471983015"
     },
     "user_tz": -330
    },
    "id": "W44Ng26U49zH"
   },
   "outputs": [],
   "source": [
    "from sklearn.model_selection import train_test_split"
   ]
  },
  {
   "cell_type": "code",
   "execution_count": 115,
   "metadata": {
    "executionInfo": {
     "elapsed": 29,
     "status": "ok",
     "timestamp": 1687944211908,
     "user": {
      "displayName": "Kishan Patel",
      "userId": "15511896560471983015"
     },
     "user_tz": -330
    },
    "id": "_xjQtvYA5Iba"
   },
   "outputs": [],
   "source": [
    "X_train, X_test, y_train, y_test = train_test_split(X, y, test_size = 0.2, random_state = 2)"
   ]
  },
  {
   "cell_type": "code",
   "execution_count": 116,
   "metadata": {
    "executionInfo": {
     "elapsed": 29,
     "status": "ok",
     "timestamp": 1687944211909,
     "user": {
      "displayName": "Kishan Patel",
      "userId": "15511896560471983015"
     },
     "user_tz": -330
    },
    "id": "hHdV_U1-5Tuj"
   },
   "outputs": [],
   "source": [
    "from sklearn.naive_bayes import GaussianNB, MultinomialNB, BernoulliNB\n",
    "from sklearn.metrics import accuracy_score, precision_score, confusion_matrix, recall_score, f1_score, roc_auc_score, mean_squared_error, r2_score, log_loss"
   ]
  },
  {
   "cell_type": "code",
   "execution_count": 117,
   "metadata": {
    "executionInfo": {
     "elapsed": 29,
     "status": "ok",
     "timestamp": 1687944211909,
     "user": {
      "displayName": "Kishan Patel",
      "userId": "15511896560471983015"
     },
     "user_tz": -330
    },
    "id": "z0JyfiSg5nEa"
   },
   "outputs": [],
   "source": [
    "gnb = GaussianNB()\n",
    "mnb = MultinomialNB()\n",
    "bnb = BernoulliNB()"
   ]
  },
  {
   "cell_type": "code",
   "execution_count": 118,
   "metadata": {
    "colab": {
     "base_uri": "https://localhost:8080/"
    },
    "executionInfo": {
     "elapsed": 29,
     "status": "ok",
     "timestamp": 1687944211909,
     "user": {
      "displayName": "Kishan Patel",
      "userId": "15511896560471983015"
     },
     "user_tz": -330
    },
    "id": "Ob18ZxrX49mQ",
    "outputId": "ce51d755-a055-4783-8abe-2b06ec70c765"
   },
   "outputs": [
    {
     "name": "stdout",
     "output_type": "stream",
     "text": [
      "Accuracy Score: 0.8607350096711799\n",
      "[[788 120]\n",
      " [ 24 102]]\n",
      "Precision Score 0.4594594594594595\n"
     ]
    }
   ],
   "source": [
    "gnb.fit(X_train, y_train)\n",
    "y_pred1 = gnb.predict(X_test)\n",
    "print(f\"Accuracy Score: {accuracy_score(y_test, y_pred1)}\")\n",
    "print(confusion_matrix(y_test, y_pred1))\n",
    "print(f\"Precision Score {precision_score(y_test, y_pred1)}\")"
   ]
  },
  {
   "cell_type": "code",
   "execution_count": 119,
   "metadata": {
    "colab": {
     "base_uri": "https://localhost:8080/"
    },
    "executionInfo": {
     "elapsed": 27,
     "status": "ok",
     "timestamp": 1687944211909,
     "user": {
      "displayName": "Kishan Patel",
      "userId": "15511896560471983015"
     },
     "user_tz": -330
    },
    "id": "fTpxkppF49MG",
    "outputId": "44d359f8-a571-4fa0-c3c3-2473c49dcc86"
   },
   "outputs": [
    {
     "name": "stdout",
     "output_type": "stream",
     "text": [
      "Accuracy Score: 0.9709864603481625\n",
      "[[908   0]\n",
      " [ 30  96]]\n",
      "Precision Score 1.0\n"
     ]
    }
   ],
   "source": [
    "mnb.fit(X_train, y_train)\n",
    "y_pred2 = mnb.predict(X_test)\n",
    "print(f\"Accuracy Score: {accuracy_score(y_test, y_pred2)}\")\n",
    "print(confusion_matrix(y_test, y_pred2))\n",
    "print(f\"Precision Score {precision_score(y_test, y_pred2)}\")"
   ]
  },
  {
   "cell_type": "code",
   "execution_count": 120,
   "metadata": {
    "colab": {
     "base_uri": "https://localhost:8080/"
    },
    "executionInfo": {
     "elapsed": 27,
     "status": "ok",
     "timestamp": 1687944211910,
     "user": {
      "displayName": "Kishan Patel",
      "userId": "15511896560471983015"
     },
     "user_tz": -330
    },
    "id": "wWyN1w-l48oi",
    "outputId": "05dec026-560c-4216-e4a7-f2b3aaef2250"
   },
   "outputs": [
    {
     "name": "stdout",
     "output_type": "stream",
     "text": [
      "Accuracy Score: 0.9796905222437138\n",
      "[[906   2]\n",
      " [ 19 107]]\n",
      "Precision Score 0.981651376146789\n"
     ]
    }
   ],
   "source": [
    "bnb.fit(X_train, y_train)\n",
    "y_pred3 = bnb.predict(X_test)\n",
    "print(f\"Accuracy Score: {accuracy_score(y_test, y_pred3)}\")\n",
    "print(confusion_matrix(y_test, y_pred3))\n",
    "print(f\"Precision Score {precision_score(y_test, y_pred3)}\")"
   ]
  },
  {
   "cell_type": "code",
   "execution_count": 121,
   "metadata": {
    "executionInfo": {
     "elapsed": 26,
     "status": "ok",
     "timestamp": 1687944211910,
     "user": {
      "displayName": "Kishan Patel",
      "userId": "15511896560471983015"
     },
     "user_tz": -330
    },
    "id": "-zEde3m5AzMh"
   },
   "outputs": [],
   "source": [
    "import pickle\n",
    "\n",
    "pickle.dump(tf, open('vectorizer.pkl', 'wb'))\n",
    "pickle.dump(mnb, open('model.pkl', 'wb'))\n",
    "\n",
    "# tf , mnb"
   ]
  },
  {
   "cell_type": "code",
   "execution_count": 122,
   "metadata": {
    "executionInfo": {
     "elapsed": 26,
     "status": "ok",
     "timestamp": 1687944211911,
     "user": {
      "displayName": "Kishan Patel",
      "userId": "15511896560471983015"
     },
     "user_tz": -330
    },
    "id": "5Mpw7qa58FZ_"
   },
   "outputs": [],
   "source": [
    "sms = \"“We’re happy to inform you that you’re entitled to a refund for overpayment on your AMEX account. Click on this link [Link] below to claim your refund.”\""
   ]
  },
  {
   "cell_type": "code",
   "execution_count": 124,
   "metadata": {
    "executionInfo": {
     "elapsed": 26,
     "status": "ok",
     "timestamp": 1687944211911,
     "user": {
      "displayName": "Kishan Patel",
      "userId": "15511896560471983015"
     },
     "user_tz": -330
    },
    "id": "5JV1NzHABlUQ"
   },
   "outputs": [],
   "source": [
    "tf_idf = pickle.load(open(\"vectorizer.pkl\", 'rb'))\n",
    "models = pickle.load(open(\"model.pkl\", 'rb'))"
   ]
  },
  {
   "cell_type": "code",
   "execution_count": 125,
   "metadata": {
    "colab": {
     "base_uri": "https://localhost:8080/"
    },
    "executionInfo": {
     "elapsed": 26,
     "status": "ok",
     "timestamp": 1687944211911,
     "user": {
      "displayName": "Kishan Patel",
      "userId": "15511896560471983015"
     },
     "user_tz": -330
    },
    "id": "z_TZXSRkBlJ_",
    "outputId": "4aa2124b-5910-4672-8647-c4a5d731b2b1"
   },
   "outputs": [
    {
     "name": "stdout",
     "output_type": "stream",
     "text": [
      "Spam\n"
     ]
    }
   ],
   "source": [
    "# 1. Preprocess\n",
    "transformed_sms = clean_text(sms)\n",
    "\n",
    "# 2. Vectorize\n",
    "vect_input = tf_idf.transform([transformed_sms])\n",
    "\n",
    "# 3. Predict\n",
    "result = models.predict(vect_input)[0]\n",
    "\n",
    "# 4. Display\n",
    "if result == 1:\n",
    "  print(\"Spam\")\n",
    "else:\n",
    "  print(\"Not Spam\")"
   ]
  },
  {
   "cell_type": "markdown",
   "metadata": {
    "id": "A7Wen8Yq4vM6"
   },
   "source": [
    "## Multiple Model"
   ]
  },
  {
   "cell_type": "code",
   "execution_count": 126,
   "metadata": {
    "executionInfo": {
     "elapsed": 24,
     "status": "ok",
     "timestamp": 1687944211912,
     "user": {
      "displayName": "Kishan Patel",
      "userId": "15511896560471983015"
     },
     "user_tz": -330
    },
    "id": "8v88aWmztGbk"
   },
   "outputs": [],
   "source": [
    "from sklearn.linear_model import LogisticRegression\n",
    "from sklearn.tree import DecisionTreeClassifier\n",
    "from sklearn.ensemble import RandomForestClassifier\n",
    "from sklearn.naive_bayes import GaussianNB\n",
    "from sklearn.neighbors import KNeighborsClassifier\n",
    "from sklearn.svm import SVC"
   ]
  },
  {
   "cell_type": "code",
   "execution_count": 128,
   "metadata": {
    "executionInfo": {
     "elapsed": 25,
     "status": "ok",
     "timestamp": 1687944211913,
     "user": {
      "displayName": "Kishan Patel",
      "userId": "15511896560471983015"
     },
     "user_tz": -330
    },
    "id": "3WtI3P5aFtOy"
   },
   "outputs": [],
   "source": [
    "models = []\n",
    "models.append(('Logistic Regression', LogisticRegression()) )\n",
    "models.append((('Decision Tree Classifier', DecisionTreeClassifier())))\n",
    "models.append(('Random Forest Classifier', RandomForestClassifier()))\n",
    "models.append(('Naive bayes', MultinomialNB()))\n",
    "models.append(('KNeighborsClassifier', KNeighborsClassifier()))\n",
    "models.append(('Support Vector Machine', SVC()))"
   ]
  },
  {
   "cell_type": "code",
   "execution_count": 129,
   "metadata": {
    "colab": {
     "base_uri": "https://localhost:8080/"
    },
    "executionInfo": {
     "elapsed": 26,
     "status": "ok",
     "timestamp": 1687944211914,
     "user": {
      "displayName": "Kishan Patel",
      "userId": "15511896560471983015"
     },
     "user_tz": -330
    },
    "id": "Uph-NlunFxdU",
    "outputId": "20c233fc-a441-4a95-d954-ae8b9a383cf5"
   },
   "outputs": [
    {
     "data": {
      "text/plain": [
       "[('Logistic Regression', LogisticRegression()),\n",
       " ('Decision Tree Classifier', DecisionTreeClassifier()),\n",
       " ('Random Forest Classifier', RandomForestClassifier()),\n",
       " ('Naive bayes', MultinomialNB()),\n",
       " ('KNeighborsClassifier', KNeighborsClassifier()),\n",
       " ('Support Vector Machine', SVC())]"
      ]
     },
     "execution_count": 129,
     "metadata": {},
     "output_type": "execute_result"
    }
   ],
   "source": [
    "models"
   ]
  },
  {
   "cell_type": "code",
   "execution_count": 130,
   "metadata": {
    "executionInfo": {
     "elapsed": 51888,
     "status": "ok",
     "timestamp": 1687944263779,
     "user": {
      "displayName": "Kishan Patel",
      "userId": "15511896560471983015"
     },
     "user_tz": -330
    },
    "id": "r89xLyHwFx-q"
   },
   "outputs": [],
   "source": [
    "Model = []\n",
    "Accuracy = []\n",
    "Precision = []\n",
    "Recall = []\n",
    "F1 = []\n",
    "for name, model in models:\n",
    "\n",
    "    model.fit(X_train, y_train)\n",
    "    y_pred = model.predict(X_test)\n",
    "    Model.append(name)\n",
    "    Accuracy.append(round(accuracy_score(y_test, y_pred), 4) * 100)\n",
    "    Precision.append(round(precision_score(y_test, y_pred), 4) * 100)\n",
    "    Recall.append(round(recall_score(y_test, y_pred), 4) * 100)\n",
    "    F1.append(round(f1_score(y_test, y_pred), 4) * 100)\n",
    "\n",
    "df = pd.DataFrame({'Model': Model, 'Accuracy':Accuracy, 'Precision':Precision, 'Recall':Recall, 'F1 Score':F1})"
   ]
  },
  {
   "cell_type": "code",
   "execution_count": 131,
   "metadata": {
    "colab": {
     "base_uri": "https://localhost:8080/",
     "height": 237
    },
    "executionInfo": {
     "elapsed": 29,
     "status": "ok",
     "timestamp": 1687944263781,
     "user": {
      "displayName": "Kishan Patel",
      "userId": "15511896560471983015"
     },
     "user_tz": -330
    },
    "id": "ylxrCorfnc4L",
    "outputId": "30e5141f-7dab-49b2-dbb7-0d2bddd2c0cf"
   },
   "outputs": [
    {
     "data": {
      "text/html": [
       "<div>\n",
       "<style scoped>\n",
       "    .dataframe tbody tr th:only-of-type {\n",
       "        vertical-align: middle;\n",
       "    }\n",
       "\n",
       "    .dataframe tbody tr th {\n",
       "        vertical-align: top;\n",
       "    }\n",
       "\n",
       "    .dataframe thead th {\n",
       "        text-align: right;\n",
       "    }\n",
       "</style>\n",
       "<table border=\"1\" class=\"dataframe\">\n",
       "  <thead>\n",
       "    <tr style=\"text-align: right;\">\n",
       "      <th></th>\n",
       "      <th>Model</th>\n",
       "      <th>Accuracy</th>\n",
       "      <th>Precision</th>\n",
       "      <th>Recall</th>\n",
       "      <th>F1 Score</th>\n",
       "    </tr>\n",
       "  </thead>\n",
       "  <tbody>\n",
       "    <tr>\n",
       "      <th>0</th>\n",
       "      <td>Naive bayes</td>\n",
       "      <td>97.10</td>\n",
       "      <td>100.00</td>\n",
       "      <td>76.19</td>\n",
       "      <td>86.49</td>\n",
       "    </tr>\n",
       "    <tr>\n",
       "      <th>1</th>\n",
       "      <td>KNeighborsClassifier</td>\n",
       "      <td>92.26</td>\n",
       "      <td>100.00</td>\n",
       "      <td>36.51</td>\n",
       "      <td>53.49</td>\n",
       "    </tr>\n",
       "    <tr>\n",
       "      <th>2</th>\n",
       "      <td>Support Vector Machine</td>\n",
       "      <td>97.29</td>\n",
       "      <td>99.00</td>\n",
       "      <td>78.57</td>\n",
       "      <td>87.61</td>\n",
       "    </tr>\n",
       "    <tr>\n",
       "      <th>3</th>\n",
       "      <td>Logistic Regression</td>\n",
       "      <td>95.16</td>\n",
       "      <td>97.50</td>\n",
       "      <td>61.90</td>\n",
       "      <td>75.73</td>\n",
       "    </tr>\n",
       "    <tr>\n",
       "      <th>4</th>\n",
       "      <td>Random Forest Classifier</td>\n",
       "      <td>97.20</td>\n",
       "      <td>97.09</td>\n",
       "      <td>79.37</td>\n",
       "      <td>87.34</td>\n",
       "    </tr>\n",
       "    <tr>\n",
       "      <th>5</th>\n",
       "      <td>Decision Tree Classifier</td>\n",
       "      <td>94.87</td>\n",
       "      <td>80.67</td>\n",
       "      <td>76.19</td>\n",
       "      <td>78.37</td>\n",
       "    </tr>\n",
       "  </tbody>\n",
       "</table>\n",
       "</div>"
      ],
      "text/plain": [
       "                      Model  Accuracy  Precision  Recall  F1 Score\n",
       "0               Naive bayes     97.10     100.00   76.19     86.49\n",
       "1      KNeighborsClassifier     92.26     100.00   36.51     53.49\n",
       "2    Support Vector Machine     97.29      99.00   78.57     87.61\n",
       "3       Logistic Regression     95.16      97.50   61.90     75.73\n",
       "4  Random Forest Classifier     97.20      97.09   79.37     87.34\n",
       "5  Decision Tree Classifier     94.87      80.67   76.19     78.37"
      ]
     },
     "execution_count": 131,
     "metadata": {},
     "output_type": "execute_result"
    }
   ],
   "source": [
    "df = df.sort_values(by = 'Precision', ascending = False).reset_index(drop = True)\n",
    "df"
   ]
  },
  {
   "cell_type": "code",
   "execution_count": 132,
   "metadata": {
    "colab": {
     "base_uri": "https://localhost:8080/",
     "height": 237
    },
    "executionInfo": {
     "elapsed": 27,
     "status": "ok",
     "timestamp": 1687944263783,
     "user": {
      "displayName": "Kishan Patel",
      "userId": "15511896560471983015"
     },
     "user_tz": -330
    },
    "id": "sGKR-OcjcWHU",
    "outputId": "dd0d1cfa-5c7f-4f5f-9421-1fcaae1b4eef"
   },
   "outputs": [
    {
     "data": {
      "text/html": [
       "<div>\n",
       "<style scoped>\n",
       "    .dataframe tbody tr th:only-of-type {\n",
       "        vertical-align: middle;\n",
       "    }\n",
       "\n",
       "    .dataframe tbody tr th {\n",
       "        vertical-align: top;\n",
       "    }\n",
       "\n",
       "    .dataframe thead th {\n",
       "        text-align: right;\n",
       "    }\n",
       "</style>\n",
       "<table border=\"1\" class=\"dataframe\">\n",
       "  <thead>\n",
       "    <tr style=\"text-align: right;\">\n",
       "      <th></th>\n",
       "      <th>Model</th>\n",
       "      <th>Accuracy</th>\n",
       "      <th>Precision</th>\n",
       "      <th>Recall</th>\n",
       "      <th>F1 Score</th>\n",
       "    </tr>\n",
       "  </thead>\n",
       "  <tbody>\n",
       "    <tr>\n",
       "      <th>0</th>\n",
       "      <td>Support Vector Machine</td>\n",
       "      <td>97.29</td>\n",
       "      <td>99.00</td>\n",
       "      <td>78.57</td>\n",
       "      <td>87.61</td>\n",
       "    </tr>\n",
       "    <tr>\n",
       "      <th>1</th>\n",
       "      <td>Random Forest Classifier</td>\n",
       "      <td>97.20</td>\n",
       "      <td>97.09</td>\n",
       "      <td>79.37</td>\n",
       "      <td>87.34</td>\n",
       "    </tr>\n",
       "    <tr>\n",
       "      <th>2</th>\n",
       "      <td>Naive bayes</td>\n",
       "      <td>97.10</td>\n",
       "      <td>100.00</td>\n",
       "      <td>76.19</td>\n",
       "      <td>86.49</td>\n",
       "    </tr>\n",
       "    <tr>\n",
       "      <th>3</th>\n",
       "      <td>Decision Tree Classifier</td>\n",
       "      <td>94.87</td>\n",
       "      <td>80.67</td>\n",
       "      <td>76.19</td>\n",
       "      <td>78.37</td>\n",
       "    </tr>\n",
       "    <tr>\n",
       "      <th>4</th>\n",
       "      <td>Logistic Regression</td>\n",
       "      <td>95.16</td>\n",
       "      <td>97.50</td>\n",
       "      <td>61.90</td>\n",
       "      <td>75.73</td>\n",
       "    </tr>\n",
       "    <tr>\n",
       "      <th>5</th>\n",
       "      <td>KNeighborsClassifier</td>\n",
       "      <td>92.26</td>\n",
       "      <td>100.00</td>\n",
       "      <td>36.51</td>\n",
       "      <td>53.49</td>\n",
       "    </tr>\n",
       "  </tbody>\n",
       "</table>\n",
       "</div>"
      ],
      "text/plain": [
       "                      Model  Accuracy  Precision  Recall  F1 Score\n",
       "0    Support Vector Machine     97.29      99.00   78.57     87.61\n",
       "1  Random Forest Classifier     97.20      97.09   79.37     87.34\n",
       "2               Naive bayes     97.10     100.00   76.19     86.49\n",
       "3  Decision Tree Classifier     94.87      80.67   76.19     78.37\n",
       "4       Logistic Regression     95.16      97.50   61.90     75.73\n",
       "5      KNeighborsClassifier     92.26     100.00   36.51     53.49"
      ]
     },
     "execution_count": 132,
     "metadata": {},
     "output_type": "execute_result"
    }
   ],
   "source": [
    "df = df.sort_values(by = 'F1 Score', ascending = False).reset_index(drop = True)\n",
    "df"
   ]
  },
  {
   "cell_type": "code",
   "execution_count": 133,
   "metadata": {
    "colab": {
     "base_uri": "https://localhost:8080/",
     "height": 445
    },
    "executionInfo": {
     "elapsed": 26,
     "status": "ok",
     "timestamp": 1687944263783,
     "user": {
      "displayName": "Kishan Patel",
      "userId": "15511896560471983015"
     },
     "user_tz": -330
    },
    "id": "m5qYAc73fyto",
    "outputId": "07696aa7-1886-4937-9e67-1267999e0c4c"
   },
   "outputs": [],
   "source": [
    "plt.figure(figsize = (15,5))\n",
    "plt.bar(df['Model'],df['F1 Score']);"
   ]
  }
 ],
 "metadata": {
  "colab": {
   "authorship_tag": "ABX9TyOfOfWCpN6lggLRpqdp+B8m",
   "mount_file_id": "18O21crAXIjLANoVhpNdQNnkN-nKIZVhJ",
   "provenance": []
  },
  "kernelspec": {
   "display_name": "base",
   "language": "python",
   "name": "python3"
  },
  "language_info": {
   "codemirror_mode": {
    "name": "ipython",
    "version": 3
   },
   "file_extension": ".py",
   "mimetype": "text/x-python",
   "name": "python",
   "nbconvert_exporter": "python",
   "pygments_lexer": "ipython3",
   "version": "3.12.7"
  }
 },
 "nbformat": 4,
 "nbformat_minor": 0
}
